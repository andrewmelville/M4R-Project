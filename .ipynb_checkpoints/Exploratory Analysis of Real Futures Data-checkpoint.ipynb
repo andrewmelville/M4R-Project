{
 "cells": [
  {
   "cell_type": "code",
   "execution_count": 5,
   "metadata": {},
   "outputs": [],
   "source": [
    "import plotting_functions\n",
    "import pandas as pd"
   ]
  },
  {
   "cell_type": "markdown",
   "metadata": {},
   "source": [
    "# Exploratory Analysis of Real Commodities Data"
   ]
  },
  {
   "cell_type": "markdown",
   "metadata": {},
   "source": [
    "## Currency Basket"
   ]
  },
  {
   "cell_type": "markdown",
   "metadata": {},
   "source": [
    "We choose the returns of three currencies which are heavily linked to the performance of commodities marketsin order to create a market benchmark against which to compare the performance of each commodity. To this end, we consider the average of the returns of the Canadian Dollar (CAD), Australian Dollar (AUD), and the Mexican Peso when paired with the US Dollar (USD). The resulting augmented \"commodities currency basket\" series is analysed in this section."
   ]
  },
  {
   "cell_type": "code",
   "execution_count": 8,
   "metadata": {},
   "outputs": [],
   "source": [
    "# Create list of currency names\n",
    "currency_list = ['CME Australian Dollar AUD',\n",
    "                 'CME Mexican Peso',\n",
    "                 'CME Canadian Dollar CAD']\n",
    "\n",
    "# Initialise empty dataframes with full indexing\n",
    "currency_dict = {currency:  pd.DataFrame([], index = pd.bdate_range(start = '1/1/1980', end = '7/31/2020')) for currency in currency_list}\n",
    "\n",
    "# Loop through each currency and load the data into the waiting dataframne\n",
    "for currency in currency_list:\n",
    "    \n",
    "    current_df = pd.read_csv('Data/Continuous Futures Series/{}.csv'.format(currency), index_col = 0, skiprows = 0, skipfooter = 1, header = 1, engine = 'python')\n",
    "    current_df.index = pd.to_datetime(current_df.index)\n",
    "    \n",
    "    currency_dict[currency] = currency_dict[currency].join(current_df)"
   ]
  },
  {
   "cell_type": "code",
   "execution_count": 57,
   "metadata": {},
   "outputs": [],
   "source": [
    "from plotting_functions import series_plot"
   ]
  },
  {
   "cell_type": "code",
   "execution_count": 59,
   "metadata": {},
   "outputs": [
    {
     "ename": "TypeError",
     "evalue": "series_plot() missing 1 required positional argument: 'linewidths'",
     "output_type": "error",
     "traceback": [
      "\u001b[1;31m---------------------------------------------------------------------------\u001b[0m",
      "\u001b[1;31mTypeError\u001b[0m                                 Traceback (most recent call last)",
      "\u001b[1;32m<ipython-input-59-348c2cbf44a4>\u001b[0m in \u001b[0;36m<module>\u001b[1;34m\u001b[0m\n\u001b[0;32m      7\u001b[0m     \u001b[0mcurrency_close_df\u001b[0m\u001b[1;33m[\u001b[0m\u001b[0mcurrency\u001b[0m\u001b[1;33m]\u001b[0m \u001b[1;33m=\u001b[0m \u001b[0mcurrency_dict\u001b[0m\u001b[1;33m[\u001b[0m\u001b[0mcurrency\u001b[0m\u001b[1;33m]\u001b[0m\u001b[1;33m[\u001b[0m\u001b[1;34m'Close'\u001b[0m\u001b[1;33m]\u001b[0m\u001b[1;33m\u001b[0m\u001b[1;33m\u001b[0m\u001b[0m\n\u001b[0;32m      8\u001b[0m \u001b[1;33m\u001b[0m\u001b[0m\n\u001b[1;32m----> 9\u001b[1;33m \u001b[0mseries_plot\u001b[0m\u001b[1;33m(\u001b[0m\u001b[0mcurrency_close_df\u001b[0m\u001b[1;33m,\u001b[0m\u001b[1;34m'Close Prices of Each Currency Against US Dollar'\u001b[0m\u001b[1;33m)\u001b[0m\u001b[1;33m\u001b[0m\u001b[1;33m\u001b[0m\u001b[0m\n\u001b[0m",
      "\u001b[1;31mTypeError\u001b[0m: series_plot() missing 1 required positional argument: 'linewidths'"
     ]
    }
   ],
   "source": [
    "# Create empty dataframe of currency close prices to be filled in\n",
    "currency_close_df = pd.DataFrame([], index = currency_dict['CME Canadian Dollar CAD'].index)\n",
    "\n",
    "# Loop through each currency dataframe and pull its close price data\n",
    "for currency in currency_list:\n",
    "    \n",
    "    currency_close_df[currency] = currency_dict[currency]['Close']\n",
    "    \n",
    "series_plot(currency_close_df,'Close Prices of Each Currency Against US Dollar')"
   ]
  },
  {
   "cell_type": "markdown",
   "metadata": {},
   "source": [
    "## Commodities"
   ]
  },
  {
   "cell_type": "markdown",
   "metadata": {},
   "source": [
    "## Data Validation"
   ]
  },
  {
   "cell_type": "markdown",
   "metadata": {},
   "source": [
    "First we check that our assumption that these currencies work as a suitable benchmark for the commodities market as a whole. We do this by finding the correlation of this baskets returns with the returns of the rest of the market."
   ]
  }
 ],
 "metadata": {
  "kernelspec": {
   "display_name": "Python 3",
   "language": "python",
   "name": "python3"
  },
  "language_info": {
   "codemirror_mode": {
    "name": "ipython",
    "version": 3
   },
   "file_extension": ".py",
   "mimetype": "text/x-python",
   "name": "python",
   "nbconvert_exporter": "python",
   "pygments_lexer": "ipython3",
   "version": "3.8.3"
  }
 },
 "nbformat": 4,
 "nbformat_minor": 4
}
